{
  "metadata": {
    "kernelspec": {
      "language": "python",
      "display_name": "Python 3",
      "name": "python3"
    },
    "language_info": {
      "name": "python",
      "version": "3.10.12",
      "mimetype": "text/x-python",
      "codemirror_mode": {
        "name": "ipython",
        "version": 3
      },
      "pygments_lexer": "ipython3",
      "nbconvert_exporter": "python",
      "file_extension": ".py"
    },
    "kaggle": {
      "accelerator": "none",
      "dataSources": [
        {
          "sourceId": 2828934,
          "sourceType": "datasetVersion",
          "datasetId": 1730328
        }
      ],
      "dockerImageVersionId": 30918,
      "isInternetEnabled": true,
      "language": "python",
      "sourceType": "notebook",
      "isGpuEnabled": false
    },
    "colab": {
      "name": "TrashNet v2",
      "provenance": []
    }
  },
  "nbformat_minor": 0,
  "nbformat": 4,
  "cells": [
    {
      "source": [
        "# IMPORTANT: RUN THIS CELL IN ORDER TO IMPORT YOUR KAGGLE DATA SOURCES,\n",
        "# THEN FEEL FREE TO DELETE THIS CELL.\n",
        "# NOTE: THIS NOTEBOOK ENVIRONMENT DIFFERS FROM KAGGLE'S PYTHON\n",
        "# ENVIRONMENT SO THERE MAY BE MISSING LIBRARIES USED BY YOUR\n",
        "# NOTEBOOK.\n",
        "import kagglehub\n",
        "feyzazkefe_trashnet_path = kagglehub.dataset_download('feyzazkefe/trashnet')\n",
        "\n",
        "print('Data source import complete.')\n"
      ],
      "metadata": {
        "id": "mZd3VLeG3ygj"
      },
      "cell_type": "code",
      "outputs": [],
      "execution_count": null
    },
    {
      "cell_type": "code",
      "source": [
        "import tensorflow as tf\n",
        "from tensorflow.keras.applications import (\n",
        "    MobileNetV2, ResNet101V2, ResNet152V2, MobileNet,\n",
        "    MobileNetV3Small, MobileNetV3Large\n",
        ")\n",
        "from tensorflow.keras.layers import GlobalAveragePooling2D, Dense, Lambda, Input\n",
        "from tensorflow.keras.models import Model\n",
        "from tensorflow.keras.preprocessing.image import ImageDataGenerator\n",
        "from tensorflow.keras.applications.resnet_v2 import preprocess_input as resnet_preprocess\n",
        "from tensorflow.keras.applications.mobilenet import preprocess_input as mobilenet_preprocess\n",
        "from tensorflow.keras.applications.mobilenet_v2 import preprocess_input as mobilenetv2_preprocess\n",
        "import pandas as pd\n",
        "import numpy as np\n"
      ],
      "metadata": {
        "trusted": true,
        "execution": {
          "iopub.status.busy": "2025-03-05T18:53:27.21209Z",
          "iopub.execute_input": "2025-03-05T18:53:27.212665Z",
          "iopub.status.idle": "2025-03-05T18:53:43.957825Z",
          "shell.execute_reply.started": "2025-03-05T18:53:27.212622Z",
          "shell.execute_reply": "2025-03-05T18:53:43.956669Z"
        },
        "id": "tZpGzCHl3ygl"
      },
      "outputs": [],
      "execution_count": null
    },
    {
      "cell_type": "code",
      "source": [
        "\n",
        "# Dataset configuration\n",
        "dataset_path = '/kaggle/input/trashnet/dataset-resized'\n",
        "img_size = (224, 224)\n",
        "batch_size = 32\n",
        "epochs = 10\n",
        "test_split = 0.2\n",
        "\n",
        "# Data generators setup\n",
        "full_datagen = ImageDataGenerator(rescale=1./255, validation_split=test_split)\n",
        "\n",
        "# Test set generator\n",
        "test_generator = full_datagen.flow_from_directory(\n",
        "    dataset_path,\n",
        "    target_size=img_size,\n",
        "    batch_size=batch_size,\n",
        "    subset='validation',\n",
        "    class_mode='categorical',\n",
        "    shuffle=False\n",
        ")\n",
        "\n",
        "# Train/val generator with augmentation\n",
        "train_val_datagen = ImageDataGenerator(\n",
        "    rescale=1./255,\n",
        "    rotation_range=20,\n",
        "    zoom_range=0.2,\n",
        "    horizontal_flip=True,\n",
        "    validation_split=0.25\n",
        ")\n",
        "\n",
        "train_generator = train_val_datagen.flow_from_directory(\n",
        "    dataset_path,\n",
        "    target_size=img_size,\n",
        "    batch_size=batch_size,\n",
        "    subset='training',\n",
        "    class_mode='categorical'\n",
        ")\n",
        "\n",
        "val_generator = train_val_datagen.flow_from_directory(\n",
        "    dataset_path,\n",
        "    target_size=img_size,\n",
        "    batch_size=batch_size,\n",
        "    subset='validation',\n",
        "    class_mode='categorical'\n",
        ")"
      ],
      "metadata": {
        "trusted": true,
        "execution": {
          "iopub.status.busy": "2025-03-05T18:53:43.959366Z",
          "iopub.execute_input": "2025-03-05T18:53:43.960197Z",
          "iopub.status.idle": "2025-03-05T18:53:52.688589Z",
          "shell.execute_reply.started": "2025-03-05T18:53:43.960148Z",
          "shell.execute_reply": "2025-03-05T18:53:52.687366Z"
        },
        "id": "rj52bR5m3ygl"
      },
      "outputs": [],
      "execution_count": null
    },
    {
      "cell_type": "code",
      "source": [
        "\n",
        "# Model configurations with proper preprocessing\n",
        "model_configs = [\n",
        "    {\n",
        "        'name': 'MobileNetV2',\n",
        "        'class': MobileNetV2,\n",
        "        'preprocess_fn': mobilenetv2_preprocess\n",
        "    },\n",
        "    {\n",
        "        'name': 'ResNet101V2',\n",
        "        'class': ResNet101V2,\n",
        "        'preprocess_fn': resnet_preprocess\n",
        "    },\n",
        "    {\n",
        "        'name': 'ResNet152V2',\n",
        "        'class': ResNet152V2,\n",
        "        'preprocess_fn': resnet_preprocess\n",
        "    },\n",
        "    {\n",
        "        'name': 'MobileNet',\n",
        "        'class': MobileNet,\n",
        "        'preprocess_fn': mobilenet_preprocess\n",
        "    },\n",
        "    {\n",
        "        'name': 'MobileNetV3Small',\n",
        "        'class': MobileNetV3Small,\n",
        "        'preprocess_fn': mobilenetv2_preprocess\n",
        "    },\n",
        "    {\n",
        "        'name': 'MobileNetV3Large',\n",
        "        'class': MobileNetV3Large,\n",
        "        'preprocess_fn': mobilenetv2_preprocess\n",
        "    },\n",
        "]\n",
        "\n",
        "# Results collection\n",
        "results = []\n",
        "\n",
        "for config in model_configs:\n",
        "    print(f\"\\n\\033[1mTraining {config['name']}\\033[0m\")\n",
        "\n",
        "    # Build model with preprocessing\n",
        "    input_layer = Input(shape=(*img_size, 3))\n",
        "    x = Lambda(lambda x: config['preprocess_fn'](x * 255.))(input_layer)\n",
        "    base_model = config['class'](weights='imagenet', include_top=False, input_shape=(*img_size, 3))\n",
        "    base_model.trainable = False\n",
        "\n",
        "    x = base_model(x)\n",
        "    x = GlobalAveragePooling2D()(x)\n",
        "    x = Dense(128, activation='relu')(x)\n",
        "    outputs = Dense(6, activation='softmax')(x)\n",
        "\n",
        "    model = Model(input_layer, outputs)\n",
        "    model.compile(optimizer='adam', loss='categorical_crossentropy', metrics=['accuracy'])\n",
        "\n",
        "    # Train the model\n",
        "    history = model.fit(\n",
        "        train_generator,\n",
        "        validation_data=val_generator,\n",
        "        epochs=epochs,\n",
        "        steps_per_epoch=train_generator.samples // batch_size,\n",
        "        validation_steps=val_generator.samples // batch_size\n",
        "    )\n",
        "\n",
        "    # Evaluate on test set\n",
        "    test_loss, test_acc = model.evaluate(test_generator)\n",
        "    results.append({\n",
        "        'Model': config['name'],\n",
        "        'Test Accuracy': f\"{test_acc:.4f}\",\n",
        "        'Test Loss': f\"{test_loss:.4f}\",\n",
        "        'Train Accuracy': f\"{history.history['accuracy'][-1]:.4f}\",\n",
        "        'Val Accuracy': f\"{history.history['val_accuracy'][-1]:.4f}\"\n",
        "    })\n",
        "\n",
        "    # Save model and training history\n",
        "    model.save(f\"/kaggle/working/{config['name']}_trashnet.h5\")\n",
        "    np.save(f\"/kaggle/working/{config['name']}_history.npy\", history.history)\n",
        "\n",
        "# Save results to CSV\n",
        "results_df = pd.DataFrame(results)\n",
        "results_df = results_df.sort_values(by='Test Accuracy', ascending=False)\n",
        "results_df.to_csv('/kaggle/working/model_comparison.csv', index=False)\n",
        "\n",
        "print(\"\\n\\033[1mModel Comparison Results:\\033[0m\")\n",
        "print(results_df.to_markdown(index=False))"
      ],
      "metadata": {
        "trusted": true,
        "execution": {
          "iopub.status.busy": "2025-03-05T18:53:52.69048Z",
          "iopub.execute_input": "2025-03-05T18:53:52.690897Z",
          "iopub.status.idle": "2025-03-05T20:51:27.764361Z",
          "shell.execute_reply.started": "2025-03-05T18:53:52.690853Z",
          "shell.execute_reply": "2025-03-05T20:51:27.7632Z"
        },
        "id": "yYSLoaqR3ygm"
      },
      "outputs": [],
      "execution_count": null
    },
    {
      "cell_type": "code",
      "source": [
        "from IPython.display import FileLink\n",
        "FileLink('/kaggle/working/ResNet152V2_history.npy')"
      ],
      "metadata": {
        "trusted": true,
        "execution": {
          "iopub.status.busy": "2025-03-05T20:56:25.747362Z",
          "iopub.execute_input": "2025-03-05T20:56:25.747687Z",
          "iopub.status.idle": "2025-03-05T20:56:25.753845Z",
          "shell.execute_reply.started": "2025-03-05T20:56:25.747661Z",
          "shell.execute_reply": "2025-03-05T20:56:25.752927Z"
        },
        "id": "XYxEfxPb3ygm"
      },
      "outputs": [],
      "execution_count": null
    },
    {
      "cell_type": "code",
      "source": [],
      "metadata": {
        "trusted": true,
        "id": "9NvTf4rH3ygm"
      },
      "outputs": [],
      "execution_count": null
    }
  ]
}